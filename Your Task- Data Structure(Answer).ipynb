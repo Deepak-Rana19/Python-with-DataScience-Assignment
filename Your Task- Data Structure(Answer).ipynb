{
 "cells": [
  {
   "cell_type": "markdown",
   "id": "7c6627e5",
   "metadata": {},
   "source": [
    "## Data Structure Task\n",
    "![](https://devopedia.org/images/article/41/8174.1595680354.png)\n",
    "\n",
    "\n",
    "\n"
   ]
  },
  {
   "cell_type": "markdown",
   "id": "21cf4040",
   "metadata": {},
   "source": [
    "# List"
   ]
  },
  {
   "cell_type": "code",
   "execution_count": 1,
   "id": "80157d46",
   "metadata": {},
   "outputs": [
    {
     "name": "stdout",
     "output_type": "stream",
     "text": [
      "Banana\n"
     ]
    }
   ],
   "source": [
    "# Creation: Create a list of your favorite fruits\n",
    "favourite_fruits=[\"Mango\",\"Banana\",\"Kiwi\",\"Avacado\",\"Pineapple\",\"Apple\"]\n",
    "\n",
    "\n",
    "# Access: Access the second item in the list.\n",
    "print(favourite_fruits[1])\n",
    "\n",
    "\n",
    "# Update: Change the third item to \"orange\".\n",
    "favourite_fruits.append(\"orange\"[2])\n",
    "\n",
    "\n",
    "\n",
    "#Remove: Remove the first item from the list.\n",
    "favourite_fruits.remove(\"Mango\")"
   ]
  },
  {
   "cell_type": "markdown",
   "id": "060b720b",
   "metadata": {},
   "source": [
    "# Tuples"
   ]
  },
  {
   "cell_type": "code",
   "execution_count": 3,
   "id": "2b40264b",
   "metadata": {},
   "outputs": [
    {
     "name": "stdout",
     "output_type": "stream",
     "text": [
      "white\n"
     ]
    },
    {
     "ename": "TypeError",
     "evalue": "'tuple' object does not support item assignment",
     "output_type": "error",
     "traceback": [
      "\u001b[1;31m---------------------------------------------------------------------------\u001b[0m",
      "\u001b[1;31mTypeError\u001b[0m                                 Traceback (most recent call last)",
      "Cell \u001b[1;32mIn[3], line 10\u001b[0m\n\u001b[0;32m      6\u001b[0m \u001b[38;5;28mprint\u001b[39m(colors[\u001b[38;5;241m2\u001b[39m])\n\u001b[0;32m      9\u001b[0m \u001b[38;5;66;03m# Update: Try to change the second item to \"yellow\" and observe what happens. Expect something error\u001b[39;00m\n\u001b[1;32m---> 10\u001b[0m colors[\u001b[38;5;241m2\u001b[39m]\u001b[38;5;241m=\u001b[39m\u001b[38;5;124m'\u001b[39m\u001b[38;5;124myellow\u001b[39m\u001b[38;5;124m'\u001b[39m\n",
      "\u001b[1;31mTypeError\u001b[0m: 'tuple' object does not support item assignment"
     ]
    }
   ],
   "source": [
    "# Creation: Create a tuple with three different colors.\n",
    "colors=(\"red\", \"blue\", \"white\",\"black\")\n",
    "\n",
    "\n",
    "# Access: Access the third item in the tuple.\n",
    "print(colors[2])\n",
    "\n",
    "\n",
    "# Update: Try to change the second item to \"yellow\" and observe what happens. Expect something error\n",
    "colors[2]='yellow'\n",
    "\n",
    "\n",
    "# Remove: Give reason why you can or can't\n",
    "# It shows syntax error as tuple is immutable, meaning once it is created and value is assigned, we cannot add any other value."
   ]
  },
  {
   "cell_type": "markdown",
   "id": "d9af3178",
   "metadata": {},
   "source": [
    "# SET"
   ]
  },
  {
   "cell_type": "code",
   "execution_count": 4,
   "id": "c38b08db",
   "metadata": {},
   "outputs": [
    {
     "name": "stdout",
     "output_type": "stream",
     "text": [
      "Toy-Car in movies\n"
     ]
    }
   ],
   "source": [
    "# Creation: Create a set of your favorite movies\n",
    "movies={\"James-Bond\", \"Thor\", \"Avengers\", \"Iron-Man\"}\n",
    "\n",
    "\n",
    "\n",
    "# Access: Check if your \"Toy Car\" is in the set.\n",
    "print(\"Toy-Car in movies\")\n",
    "\n",
    "\n",
    "\n",
    "# Update: Add \"Miracle in Cell\" to the set.\n",
    "movies.add(\"Miracle in Cell\" in movies)\n",
    "\n",
    "\n",
    "\n",
    "# Remove: Remove your least favorite movies.\n",
    "movies.remove(\"Thor\")"
   ]
  },
  {
   "cell_type": "markdown",
   "id": "77344d89",
   "metadata": {},
   "source": [
    "# Dictionary"
   ]
  },
  {
   "cell_type": "code",
   "execution_count": 6,
   "id": "02ece1f6",
   "metadata": {},
   "outputs": [
    {
     "name": "stdout",
     "output_type": "stream",
     "text": [
      "35\n"
     ]
    }
   ],
   "source": [
    "# Creation: Create a dictionary with three key-value pairs representing a person's details (e.g., name, age, city).\n",
    "person_details={\"name\":\"James-Bond\", \"age\": 35, \"city\": \"New-York\"}\n",
    "\n",
    "\n",
    "# Access: Access the person's age.\n",
    "print(person_details[\"age\"])\n",
    "\n",
    "\n",
    "# Update: Update the person's city to \"Los Angeles\".\n",
    "person_details[\"city\"]=\"Los Angeles\"\n",
    "\n",
    "\n",
    "# Remove: Remove the age key-value pair from the dictionary.\n",
    "del person_details[\"age\"]"
   ]
  },
  {
   "cell_type": "markdown",
   "id": "1147fb20",
   "metadata": {},
   "source": [
    "# List Compression"
   ]
  },
  {
   "cell_type": "code",
   "execution_count": 8,
   "id": "2843c7d3",
   "metadata": {},
   "outputs": [
    {
     "name": "stdout",
     "output_type": "stream",
     "text": [
      "[1, 4, 9, 16, 25, 36, 49, 64, 81, 100]\n"
     ]
    }
   ],
   "source": [
    "# Create a list of squares of numbers from 1 to 10.\n",
    "squares = []\n",
    "for x in range(1, 11):\n",
    "    squares.append(x*x)\n",
    "\n",
    "print(squares)"
   ]
  },
  {
   "cell_type": "code",
   "execution_count": 2,
   "id": "0d9983ab",
   "metadata": {},
   "outputs": [
    {
     "name": "stdout",
     "output_type": "stream",
     "text": [
      "['HELLO', 'WORLD', 'PYTHON', 'LIST', 'COMPREHENSION']\n"
     ]
    }
   ],
   "source": [
    "# Explain in the markdown what is happening in this code\n",
    "\n",
    "words = [\"hello\", \"world\", \"python\", \"list\", \"comprehension\"]\n",
    "uppercase_words = [word.upper() for word in words]\n",
    "print(uppercase_words)\n",
    "\n",
    "# a lists of words is created in lowercase.\n",
    "# word.upper() converts the word to uppercase\n",
    "# a new list uppercase_words is created with all the uppercase version\n",
    "# print(uppercase_words) prints the new list of uppercase words"
   ]
  },
  {
   "cell_type": "markdown",
   "id": "9cec37a4",
   "metadata": {},
   "source": [
    "> Submit to the email"
   ]
  },
  {
   "cell_type": "markdown",
   "id": "26f5e9d2",
   "metadata": {},
   "source": [
    "Recommended Reading\n",
    "\n",
    "https://www.stationx.net/python-data-structures-cheat-sheet/"
   ]
  },
  {
   "cell_type": "code",
   "execution_count": null,
   "id": "140d6880",
   "metadata": {},
   "outputs": [],
   "source": []
  }
 ],
 "metadata": {
  "kernelspec": {
   "display_name": "Python 3 (ipykernel)",
   "language": "python",
   "name": "python3"
  },
  "language_info": {
   "codemirror_mode": {
    "name": "ipython",
    "version": 3
   },
   "file_extension": ".py",
   "mimetype": "text/x-python",
   "name": "python",
   "nbconvert_exporter": "python",
   "pygments_lexer": "ipython3",
   "version": "3.12.7"
  }
 },
 "nbformat": 4,
 "nbformat_minor": 5
}
