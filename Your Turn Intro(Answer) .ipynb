{
 "cells": [
  {
   "cell_type": "markdown",
   "id": "ad6f2d67",
   "metadata": {},
   "source": [
    "## A variable is a reserved memory area (memory address) to store value. \n",
    "\n",
    "* For example, we want to store an employee’s salary. In such a case, we can create a variable and store salary using it. Using that variable name, you can read or modify the salary amount.\n",
    "`\n",
    "\n",
    "# In this complete the task as per the instruction\n",
    "\n",
    "For example. \n"
   ]
  },
  {
   "cell_type": "code",
   "execution_count": 21,
   "id": "4e566806",
   "metadata": {},
   "outputs": [
    {
     "name": "stdout",
     "output_type": "stream",
     "text": [
      "the salary is:  2000\n"
     ]
    }
   ],
   "source": [
    "# Define a variable named salary and assign a value to it\n",
    "\n",
    "saalary = 2000\n",
    "\n",
    "print(\"the salary is: \",saalary)\n"
   ]
  },
  {
   "cell_type": "code",
   "execution_count": 20,
   "id": "a471c487",
   "metadata": {},
   "outputs": [
    {
     "name": "stdout",
     "output_type": "stream",
     "text": [
      "the remainder of the number 40 / 10 is:  0\n"
     ]
    }
   ],
   "source": [
    "# find the reminder of the number 40 divided by 10 [use modulus]\n",
    "a=40%10\n",
    "print(\"the remainder of the number 40 / 10 is: \",a)\n"
   ]
  },
  {
   "cell_type": "code",
   "execution_count": 9,
   "id": "233228b4",
   "metadata": {},
   "outputs": [
    {
     "name": "stdout",
     "output_type": "stream",
     "text": [
      "the sum of numbers:  6\n",
      "the sum of numbers:  14\n",
      "the sum of numbers:  24\n",
      "the sum of numbers:  43\n"
     ]
    }
   ],
   "source": [
    "# Find the sum of 6, 8, 10,19 \n",
    "numbers = [6, 8, 10, 19]\n",
    "sum = 0\n",
    "for num in numbers:\n",
    "    sum += num\n",
    "    print(\"the sum of numbers: \",sum)\n",
    "\n"
   ]
  },
  {
   "cell_type": "code",
   "execution_count": 10,
   "id": "b87f7ad9",
   "metadata": {},
   "outputs": [
    {
     "name": "stdout",
     "output_type": "stream",
     "text": [
      "raising the 10 to the power of 40:  10000000000000000000000000000000000000000\n"
     ]
    }
   ],
   "source": [
    "# Raise 10 to the power of 40\n",
    "power= 10**40\n",
    "print(\"raising the 10 to the power of 40: \",power)\n"
   ]
  },
  {
   "cell_type": "code",
   "execution_count": 19,
   "id": "e5b5e304",
   "metadata": {},
   "outputs": [
    {
     "name": "stdout",
     "output_type": "stream",
     "text": [
      "the current year is:  24\n"
     ]
    }
   ],
   "source": [
    "# Define a variable called Currentyear and assign a value to it\n",
    "\n",
    "Currentyear = 24\n",
    "print(\"the current year is: \",Currentyear)"
   ]
  },
  {
   "cell_type": "code",
   "execution_count": 18,
   "id": "512c98aa",
   "metadata": {},
   "outputs": [
    {
     "name": "stdout",
     "output_type": "stream",
     "text": [
      "the integer:  25\n"
     ]
    }
   ],
   "source": [
    "# Define a variable called my_integer and assign a value 25 to it\n",
    "\n",
    "my_integer = 25\n",
    "print(\"the integer: \",my_integer)"
   ]
  },
  {
   "cell_type": "code",
   "execution_count": 11,
   "id": "28fbeb8c",
   "metadata": {},
   "outputs": [
    {
     "name": "stdout",
     "output_type": "stream",
     "text": [
      "the variable age with value:  23\n"
     ]
    }
   ],
   "source": [
    "# Define a variable called age and assign the value 23 and print the result using print()\n",
    "age= 23\n",
    "print(\"the variable age with value: \",age)\n"
   ]
  },
  {
   "cell_type": "code",
   "execution_count": 12,
   "id": "fb5e88a7",
   "metadata": {},
   "outputs": [
    {
     "name": "stdout",
     "output_type": "stream",
     "text": [
      "<class 'int'>\n"
     ]
    }
   ],
   "source": [
    "# now print the type of the age variable using the type() function\n",
    "age= 23\n",
    "print(type(age))\n"
   ]
  },
  {
   "cell_type": "code",
   "execution_count": 22,
   "id": "e1a3c616",
   "metadata": {},
   "outputs": [
    {
     "name": "stdout",
     "output_type": "stream",
     "text": [
      "the example of float variable is:  2.56\n",
      "<class 'float'>\n"
     ]
    }
   ],
   "source": [
    "# now assign new float variable [float means no with decimal value] to the age \n",
    "example= 2.56\n",
    "\n",
    "print(\"the example of float variable is: \",example)\n",
    "# then print its type()\n",
    "print(type(example))\n",
    "\n"
   ]
  },
  {
   "cell_type": "code",
   "execution_count": 17,
   "id": "2e68e8ae",
   "metadata": {},
   "outputs": [
    {
     "name": "stdout",
     "output_type": "stream",
     "text": [
      "the user is: James_Bond\n",
      "the HomeAddress of the user is:  123\n",
      "the city-name of the user is: Kathmandu\n"
     ]
    }
   ],
   "source": [
    "# Create 3 different variable and store any values you like\n",
    "\n",
    "# make sure to use camelCase, Pascal and Snake_case\n",
    "userName= \"James_Bond\"\n",
    "HomeAddress= 123\n",
    "city_name= \"Kathmandu\"\n",
    "print(\"the user is: \"+userName)\n",
    "print(\"the HomeAddress of the user is: \", HomeAddress)\n",
    "print(\"the city-name of the user is: \"+city_name)"
   ]
  },
  {
   "cell_type": "code",
   "execution_count": 9,
   "id": "ec9a89c7",
   "metadata": {},
   "outputs": [],
   "source": [
    "# Write in markdown about three takeaway from your python and datascience class\n",
    "# The 3 takeaway from the python and datascience class is:\n",
    "# 1. Data is everywhere and we have to make meaningful information from the raw data and make it useful.\n",
    "# 2. Python language is easy to understand and write after practicing again and again by learning what each line of code does.\n",
    "# 3. The more you learn, practice and implement what you learn in the class, the more you will improve in the choosen field."
   ]
  },
  {
   "cell_type": "code",
   "execution_count": null,
   "id": "5cb2a37d",
   "metadata": {},
   "outputs": [],
   "source": []
  }
 ],
 "metadata": {
  "kernelspec": {
   "display_name": "Python 3 (ipykernel)",
   "language": "python",
   "name": "python3"
  },
  "language_info": {
   "codemirror_mode": {
    "name": "ipython",
    "version": 3
   },
   "file_extension": ".py",
   "mimetype": "text/x-python",
   "name": "python",
   "nbconvert_exporter": "python",
   "pygments_lexer": "ipython3",
   "version": "3.12.7"
  }
 },
 "nbformat": 4,
 "nbformat_minor": 5
}
