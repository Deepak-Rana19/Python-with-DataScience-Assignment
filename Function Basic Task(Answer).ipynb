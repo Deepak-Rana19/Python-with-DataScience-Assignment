{
 "cells": [
  {
   "cell_type": "markdown",
   "id": "d83568fc",
   "metadata": {},
   "source": [
    "![img](https://ytu-cvlab.github.io/mce-51069/images/copied_from_nb/images/function.jpeg)"
   ]
  },
  {
   "cell_type": "markdown",
   "id": "2cf8928f",
   "metadata": {},
   "source": [
    "# What is the Syntac of user-defined function?"
   ]
  },
  {
   "cell_type": "code",
   "execution_count": 2,
   "id": "82d22229",
   "metadata": {},
   "outputs": [],
   "source": [
    "# Write Syntac below\n",
    "def user_defined_function(hello):\n",
    "    print(\"This is an example of user_defined_function: \"+hello)\n",
    "    return user_defined_function(\"Hello World\")\n",
    "    \n",
    "    \n",
    "\n",
    "\n",
    "\n"
   ]
  },
  {
   "cell_type": "markdown",
   "id": "eb5888ba",
   "metadata": {},
   "source": [
    "# Task 1: Define a Function"
   ]
  },
  {
   "cell_type": "code",
   "execution_count": null,
   "id": "54e820c2",
   "metadata": {},
   "outputs": [],
   "source": [
    "# Define a function called `greet` that takes a single parameter `name`.\n",
    "# The purpose of this function is to print a greeting message that says \"Hello, [name]!\".\n",
    "# For example, calling greet(\"Alice\") should output \"Hello, Alice!\"."
   ]
  },
  {
   "cell_type": "code",
   "execution_count": 13,
   "id": "f7a0d8a7",
   "metadata": {},
   "outputs": [],
   "source": [
    "# Write your code here\n",
    "def greet(name):\n",
    "    print(\"Hello, \"+name+ \"!\")\n",
    "    return \n",
    "    greet(\"James\")\n",
    "    \n",
    "\n",
    "\n",
    "\n",
    "\n",
    "\n"
   ]
  },
  {
   "cell_type": "markdown",
   "id": "54df224a",
   "metadata": {},
   "source": [
    "# Task 2: Call the Function"
   ]
  },
  {
   "cell_type": "code",
   "execution_count": 8,
   "id": "0e596bc8",
   "metadata": {},
   "outputs": [],
   "source": [
    "# After defining the function, call it with different names to see the output.\n",
    "# You should call the function at least three times with different names"
   ]
  },
  {
   "cell_type": "code",
   "execution_count": 16,
   "id": "359b3353",
   "metadata": {},
   "outputs": [
    {
     "name": "stdout",
     "output_type": "stream",
     "text": [
      "Hello, Robert!\n",
      "Hello, !\n",
      "Hello, !@#$#@!\n"
     ]
    },
    {
     "ename": "TypeError",
     "evalue": "can only concatenate str (not \"int\") to str",
     "output_type": "error",
     "traceback": [
      "\u001b[1;31m---------------------------------------------------------------------------\u001b[0m",
      "\u001b[1;31mTypeError\u001b[0m                                 Traceback (most recent call last)",
      "Cell \u001b[1;32mIn[16], line 5\u001b[0m\n\u001b[0;32m      3\u001b[0m greet(\u001b[38;5;124m\"\u001b[39m\u001b[38;5;124m\"\u001b[39m)\n\u001b[0;32m      4\u001b[0m greet(\u001b[38;5;124m\"\u001b[39m\u001b[38;5;124m!@#$#@\u001b[39m\u001b[38;5;124m\"\u001b[39m)\n\u001b[1;32m----> 5\u001b[0m greet(\u001b[38;5;241m1345432\u001b[39m)\n",
      "Cell \u001b[1;32mIn[13], line 3\u001b[0m, in \u001b[0;36mgreet\u001b[1;34m(name)\u001b[0m\n\u001b[0;32m      2\u001b[0m \u001b[38;5;28;01mdef\u001b[39;00m \u001b[38;5;21mgreet\u001b[39m(name):\n\u001b[1;32m----> 3\u001b[0m     \u001b[38;5;28mprint\u001b[39m(\u001b[38;5;124m\"\u001b[39m\u001b[38;5;124mHello, \u001b[39m\u001b[38;5;124m\"\u001b[39m\u001b[38;5;241m+\u001b[39mname\u001b[38;5;241m+\u001b[39m \u001b[38;5;124m\"\u001b[39m\u001b[38;5;124m!\u001b[39m\u001b[38;5;124m\"\u001b[39m)\n\u001b[0;32m      4\u001b[0m     \u001b[38;5;28;01mreturn\u001b[39;00m \n\u001b[0;32m      5\u001b[0m     greet(\u001b[38;5;124m\"\u001b[39m\u001b[38;5;124mJames\u001b[39m\u001b[38;5;124m\"\u001b[39m)\n",
      "\u001b[1;31mTypeError\u001b[0m: can only concatenate str (not \"int\") to str"
     ]
    }
   ],
   "source": [
    "# Write your code here\n",
    "greet(\"Robert\")\n",
    "greet(\"\")\n",
    "greet(\"!@#$#@\")\n",
    "greet(1345432)\n",
    "\n",
    "\n",
    "\n",
    "\n",
    "\n",
    "\n"
   ]
  },
  {
   "cell_type": "markdown",
   "id": "8ab13bad",
   "metadata": {},
   "source": [
    "# Task 3: Experiment with Different Inputs"
   ]
  },
  {
   "cell_type": "code",
   "execution_count": 3,
   "id": "adb4a01a",
   "metadata": {},
   "outputs": [],
   "source": [
    "# Try calling the `greet` function with different types of inputs: \n",
    "# and observe and note down what happens with each type of input.\n",
    "\n",
    "\n",
    "# - A string with a different name (e.g., greet(\"Dave\"))\n",
    "#output: Hello, Robert! \n",
    "\n",
    "\n",
    "\n",
    "# - An empty string (e.g., greet(\"\"))\n",
    "# output: Hello, !\n",
    "\n",
    "\n",
    "\n",
    "# - A string with special characters (e.g., greet(\"!@#\"))\n",
    "#output: Hello,!##@!\n",
    "\n",
    "\n",
    "# - A non-string input (e.g., greet(123))\n",
    "#output: syntax error\n",
    "\n",
    "\n"
   ]
  },
  {
   "cell_type": "markdown",
   "id": "b9479b91",
   "metadata": {},
   "source": [
    "# Write down your observations on how the `greet` function behaves with different inputs.\n",
    "\n",
    "# and write in paragraph about what you undestood about function"
   ]
  },
  {
   "cell_type": "code",
   "execution_count": null,
   "id": "e16c11b7",
   "metadata": {},
   "outputs": [],
   "source": [
    "My observation on how the gree function behaves with different inputs is:\n",
    "1. If we run the greet function with different input, then it will run and gives us desired output.\n",
    "2. If we run the greet function with empty value of string, then it will run and gives us output but without the name.\n",
    "3. If we run the greet function with special character, then it will give us output with special character.\n",
    "4. If we run the greet function with non-string input, then it will show us syntax error message as the function only concatenate string value."
   ]
  }
 ],
 "metadata": {
  "kernelspec": {
   "display_name": "Python 3 (ipykernel)",
   "language": "python",
   "name": "python3"
  },
  "language_info": {
   "codemirror_mode": {
    "name": "ipython",
    "version": 3
   },
   "file_extension": ".py",
   "mimetype": "text/x-python",
   "name": "python",
   "nbconvert_exporter": "python",
   "pygments_lexer": "ipython3",
   "version": "3.12.7"
  }
 },
 "nbformat": 4,
 "nbformat_minor": 5
}
