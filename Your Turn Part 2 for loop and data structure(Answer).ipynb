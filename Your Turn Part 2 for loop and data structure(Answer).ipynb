{
 "cells": [
  {
   "cell_type": "markdown",
   "id": "036a404b",
   "metadata": {},
   "source": [
    " # In this notebook complete the task as per the instruction\n",
    "\n",
    "complete the task in the empty cells below the markdown question."
   ]
  },
  {
   "cell_type": "markdown",
   "id": "9326b48e",
   "metadata": {},
   "source": [
    "# 1. Create a list of your hobbies and print them using for loop\n",
    "\n"
   ]
  },
  {
   "cell_type": "code",
   "execution_count": 5,
   "id": "563f6376",
   "metadata": {},
   "outputs": [
    {
     "name": "stdout",
     "output_type": "stream",
     "text": [
      "My Hobbies: \n",
      "My hobbies are: Reading\n",
      "My hobbies are: Cycling\n",
      "My hobbies are: Painting\n",
      "My hobbies are: Gaming\n",
      "My hobbies are: Cooking\n"
     ]
    }
   ],
   "source": [
    "hobbies = [\"Reading\", \"Cycling\", \"Painting\", \"Gaming\", \"Cooking\"]\n",
    "print(\"My Hobbies: \")\n",
    "for hobby in hobbies:\n",
    "    print(\"My hobbies are: \" + hobby)\n"
   ]
  },
  {
   "cell_type": "markdown",
   "id": "d376a48d",
   "metadata": {},
   "source": [
    "# 2. Create a dictionary called hobbies_ratings and add the following values\n",
    "\n",
    "- \"Reading\": 9,\n",
    "- \"Drawing\": 8,\n",
    "- \"Cooking\": 7,\n",
    "-  \"Hiking\": 9,\n",
    "- \"Gardening\": 6\n",
    "\n",
    "\n",
    "Then once dictionary is created, print hobbies and their ratings using a for loop\n",
    "\n",
    "**Hint:** \n",
    "\n",
    "`For hobby, rating in hobbies_ratings.items():`"
   ]
  },
  {
   "cell_type": "code",
   "execution_count": 6,
   "id": "5ed560d1",
   "metadata": {},
   "outputs": [
    {
     "name": "stdout",
     "output_type": "stream",
     "text": [
      "Hobbies and their ratings:\n",
      "- Reading: 9/10\n",
      "- Drawing: 8/10\n",
      "- Cooking: 7/10\n",
      "- Hiking: 9/10\n",
      "- Gardening: 6/10\n"
     ]
    }
   ],
   "source": [
    "hobbies_ratings = {\n",
    "    \"Reading\": 9,\n",
    "    \"Drawing\": 8,\n",
    "    \"Cooking\": 7,\n",
    "    \"Hiking\": 9,\n",
    "    \"Gardening\": 6\n",
    "}\n",
    "print(\"Hobbies and their ratings:\")\n",
    "for hobby, rating in hobbies_ratings.items():\n",
    "    print(f\"- {hobby}: {rating}/10\")\n"
   ]
  },
  {
   "cell_type": "markdown",
   "id": "876bc45d",
   "metadata": {},
   "source": [
    "# 3. Fill in the blanks for \n",
    "\n",
    "\n",
    "- List is Order collection and is declared using ___[]_____ bracket?\n",
    "\n",
    "- ___Tuples___ is only data structure which value can't be changed after creation\n",
    "\n",
    "- Set doesnot allow to have _____duplicate_ values.\n",
    "\n",
    "- Set and ____dictionary__ both uses {}/"
   ]
  },
  {
   "cell_type": "markdown",
   "id": "6141181a",
   "metadata": {},
   "source": [
    " # 4. Create a function called add and do some addition (a+b). Then do function calling to show output"
   ]
  },
  {
   "cell_type": "code",
   "execution_count": 3,
   "id": "0768390c",
   "metadata": {},
   "outputs": [],
   "source": [
    "def add(a, b):\n",
    "    c=a + b\n",
    "    print(\"The addition of a+b is: \", c)\n",
    "    return \n",
    "    add(10, 15)"
   ]
  },
  {
   "cell_type": "markdown",
   "id": "432b2435",
   "metadata": {},
   "source": [
    "# 5. Using the Dictionary created in Q.2, print the  hobbies if the rating is > 8\n",
    "\n",
    "\n",
    "**Hint:** \n",
    "\n",
    "    ```\n",
    "    For hobby, rating in hobbies_ratings.items():\n",
    "        if rating >= 8:\n",
    "           print(\"Nice hobies)\n",
    "        else.....   \n",
    "\n",
    "        ```\n"
   ]
  },
  {
   "cell_type": "code",
   "execution_count": 9,
   "id": "9b1f13d0",
   "metadata": {},
   "outputs": [
    {
     "name": "stdout",
     "output_type": "stream",
     "text": [
      "nice hobbies\n",
      "nice hobbies\n",
      "try new hobby\n",
      "nice hobbies\n",
      "try new hobby\n"
     ]
    }
   ],
   "source": [
    "for hobby, rating in hobbies_ratings.items():\n",
    "    if rating >=8:\n",
    "        print(\"nice hobbies\")\n",
    "    else:\n",
    "        print(\"try new hobby\")"
   ]
  },
  {
   "cell_type": "code",
   "execution_count": null,
   "id": "75227b78-cdc2-4fa2-bd44-02b11a8f9aa1",
   "metadata": {},
   "outputs": [],
   "source": []
  }
 ],
 "metadata": {
  "kernelspec": {
   "display_name": "Python 3 (ipykernel)",
   "language": "python",
   "name": "python3"
  },
  "language_info": {
   "codemirror_mode": {
    "name": "ipython",
    "version": 3
   },
   "file_extension": ".py",
   "mimetype": "text/x-python",
   "name": "python",
   "nbconvert_exporter": "python",
   "pygments_lexer": "ipython3",
   "version": "3.12.7"
  }
 },
 "nbformat": 4,
 "nbformat_minor": 5
}
